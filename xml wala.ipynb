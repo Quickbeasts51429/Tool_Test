{
 "cells": [
  {
   "cell_type": "code",
   "execution_count": 1,
   "id": "76f3db0f-a61f-4079-9207-ccd2b0327e53",
   "metadata": {},
   "outputs": [],
   "source": [
    "## XML FILE"
   ]
  },
  {
   "cell_type": "code",
   "execution_count": null,
   "id": "0228416b-19e0-489b-8f71-9191ea69902a",
   "metadata": {},
   "outputs": [],
   "source": [
    "<tool id=\"xarray_timeseries\" name=\"NetCDF xarray timeseries plotting\" version=\"@TOOL_VERSION@+galaxy@VERSION_SUFFIX@\" profile=\"@PROFILE@\">\n",
    "    <description>Visualize time series of netCDF variables </description>\n",
    "    <macros>\n",
    "        <import>macros.xml</import>\n",
    "        <import>macros_timeseries.xml</import>\n",
    "    </macros>\n",
    "    <expand macro=\"edam_ontology\"/>\n",
    "    <requirements>\n",
    "        <requirement type=\"package\" version=\"@TOOL_VERSION@\">xarray</requirement>\n",
    "        <requirement type=\"package\" version=\"3\">python</requirement>\n",
    "        <requirement type=\"package\" version=\"1.5.6\">netcdf4</requirement>\n",
    "        <requirement type=\"package\" version=\"3.4.2\">matplotlib</requirement>\n",
    "        <requirement type=\"package\" version=\"2021.12.0\">dask</requirement>\n",
    "        <requirement type=\"package\" version=\"0.13.1\">pandas</requirement>\n",
    "    </requirements>"
   ]
  },
  {
   "cell_type": "code",
   "execution_count": null,
   "id": "eec5ad6e-8d46-4ac6-81d2-377f4d97ae47",
   "metadata": {
    "tags": []
   },
   "outputs": [],
   "source": [
    "<command detect_errors=\"exit_code\"><![CDATA[\n",
    "    mkdir output_dir &&\n",
    "    mkdir -p `pwd`/mlp_tmpdir &&\n",
    "    MPLCONFIGDIR=`pwd`/mlp_tmpdir &&\n",
    "    echo \"Galaxy xarray version @TOOL_VERSION@\" > $version &&\n",
    "    python '$__tool_directory__/xarray_timeseries.py' '$input' '$var'\n",
    "    --config '$map_customization' --proj '$map_projection' #here --proj has to be replaced with something relevant to timeseries.\n",
    "    #if $shift\n",
    "         --shift\n",
    "    #end if\n",
    "         --output plot.png\n",
    "         --verbose &&\n",
    "    mv *.png output_dir\n",
    "    ]]></command>"
   ]
  },
  {
   "cell_type": "code",
   "execution_count": null,
   "id": "79b1d2e8-3043-4716-aca8-d698ae6a5a93",
   "metadata": {
    "tags": []
   },
   "outputs": [],
   "source": [
    " <expand macro=\"config_map\"/>\n",
    "    <inputs>\n",
    "        <param type=\"data\" name=\"input\" label=\"Input netcdf file\" format=\"netcdf\"  help=\"Select the input netCDF file/files.\"/> #input dataset part (may have the feature of uploading multiple files)\n",
    "        <param type=\"data\" label=\"Tabular of variables\" name=\"var_tab\" format=\"tabular\" help=\"Select the tabular file which summarize the available variables and dimensions.\"/>\n",
    "        '''<param name=\"var\" type=\"select\" label=\"Choose the variable to plot timeseries\">\n",
    "            <options from_dataset=\"var_tab\">\n",
    "                <column name=\"name\" index=\"0\"/>\n",
    "                <column name=\"value\" index=\"0\"/>\n",
    "            </options>\n",
    "        </param>'''\n",
    "         <param name=\"axes_xvar\" type=\"select\" label=\"Choose the variable to plot on X-axis\">\n",
    "            <options from_dataset=\"var_tab\">\n",
    "                <column name=\"name\" index=\"0\"/>\n",
    "                <column name=\"value\" index=\"0\"/>\n",
    "            </options>\n",
    "        </param>\n",
    "        <param name=\"axes_yvar\" type=\"select\" label=\"Choose the variable to plot on Y-axis\">\n",
    "            <options from_dataset=\"var_tab\">\n",
    "                <column name=\"name\" index=\"0\"/>\n",
    "                <column name=\"value\" index=\"0\"/>\n",
    "            </options>\n",
    "        </param>\n",
    "        \n",
    "        <param name=\"datetime\" type=\"select\" label=\"Datetime selection\" help=\"Use this option when your dataset contains multiple times/dates\">\n",
    "            '''<option value=\"yes\">Yes</option>\n",
    "            <param type=\"data\" label=\"Tabular of time values\" name=\"time_tab\" format=\"tabular\" help=\"File containing time values.\"/>\n",
    "                <param name=\"time_values\" type=\"select\" multiple=\"true\" label=\"Choose the times to plot\">\n",
    "                    <options from_dataset=\"time_tab\">\n",
    "                        <column name=\"name\" index=\"1\"/>\n",
    "                        <column name=\"value\" index=\"0\"/>\n",
    "                    </options>\n",
    "                </param>'''\n",
    "        </param>\n",
    "        <param name=\"date_time_format+\" type=\"select\" label=\"Datetime selection\" help=\"Use this option when your dataset contains multiple times/dates\">\n",
    "            '''<option value=\"yes\">Yes</option>\n",
    "            <param type=\"data\" label=\"Tabular of time values\" name=\"time_tab\" format=\"tabular\" help=\"File containing time values.\"/>\n",
    "                <param name=\"time_values\" type=\"select\" multiple=\"true\" label=\"Choose the times to plot\">\n",
    "                    <options from_dataset=\"time_tab\">\n",
    "                        <column name=\"name\" index=\"1\"/>\n",
    "                        <column name=\"value\" index=\"0\"/>\n",
    "                    </options>\n",
    "                </param>'''\n",
    "        </param>\n",
    "        <param name=\"xlim\" type=\"text\" optional=\"true\" label=\"longitudes values 'lonW,lonE' for limited geographical area\" />\n",
    "        <param name=\"ylim\" type=\"text\" value=\"\"  optional=\"true\" label=\"latitudes values 'latS,latN' for limited geographical area\" />\n",
    "         <param name=\"shift\" type=\"select\"  display=\"radio\" label=\"Shift longitudes [0,360] --> [-180,180]\"> \n",
    "            <option value=\"\" selected=\"true\">No</option>\n",
    "            <option value=\"Yes\">Yes</option>\n",
    "        </param>\n",
    "        <param name=\"range\" type=\"text\" optional=\"true\" label=\"Range of values for plotting e.g. minimum value and maximum value (minval,maxval) (optional)\" />\n",
    "        <param name=\"threshold\" type=\"float\"  optional=\"true\" label=\"Do not plot values below this threshold (optional)\" />\n",
    "        <expand macro=\"customize_appearance_plots\" />\n",
    "    </inputs>\n",
    "     <outputs>\n",
    "        <data name=\"version\" format=\"tabular\" label=\"Tool version\"/>\n",
    "        <collection type=\"list\" name=\"output_dir\" label=\"TimeSeries plots\">\n",
    "            <discover_datasets pattern=\"__name_and_ext__\" directory=\"output_dir\"/>\n",
    "        </collection>\n",
    "    </outputs>"
   ]
  },
  {
   "cell_type": "code",
   "execution_count": null,
   "id": "639d611c-c0ef-4107-946a-ec48fa98a592",
   "metadata": {},
   "outputs": [],
   "source": [
    "   "
   ]
  },
  {
   "cell_type": "code",
   "execution_count": null,
   "id": "437454a9-9562-4850-b24a-29e835621483",
   "metadata": {},
   "outputs": [],
   "source": [
    "    <tests>\n",
    "       <test>\n",
    "            <param name=\"input\" value=\"dataset-ibi-reanalysis-bio-005-003-monthly-regulargrid_1510914389133.nc\"/>\n",
    "            <param name=\"var\" value=\"nh4\"/>\n",
    "            <param name=\"var_tab\" value=\"var_tab_dataset-ibi\"/>\n",
    "            <param name=\"datetime\" value=\"yes\"/>\n",
    "            <param name=\"time_tab\" value=\"time.tabular\"/>\n",
    "            <param name=\"time_values\" value=\"50\"/>\n",
    "            <output_collection name=\"output_dir\" type=\"list\" count=\"1\">\n",
    "                 <element name=\"plot_time50\" ftype='png' file=\"dataset-ibi-reanalysis-bio-005-003-monthly-regulargrid_1510914389133_time50.png\"/>\n",
    "            </output_collection>\n",
    "            <output name=\"version\" ftype='tabular' file=\"version.tabular\"/>\n",
    "        </test>\n",
    "    </tests>"
   ]
  },
  {
   "cell_type": "code",
   "execution_count": null,
   "id": "985d725c-0fdd-4f39-8d92-e29c792decfd",
   "metadata": {},
   "outputs": [],
   "source": [
    "    <help><![CDATA[\n",
    "**What it does**\n",
    "This tool plots a variable versus time. It may be a 2D variable (latitude, longitude) and eventually with \n",
    "and a mandatory time dimension (specific time to plot should then be selected).\n",
    "The appearance of plots can be customized with options as well at the customization. \n",
    "\n",
    "The output is a collection of plots (png format); one per selected times.\n",
    "-------------------------------------------------\n",
    "The xarray select tool can be used after the xarray Info and xarray coord.\n",
    "    ]]></help>\n",
    "    <expand macro=\"citations\"/>\n",
    "</tool>"
   ]
  }
 ],
 "metadata": {
  "kernelspec": {
   "display_name": "Python 3 (ipykernel)",
   "language": "python",
   "name": "python3"
  },
  "language_info": {
   "codemirror_mode": {
    "name": "ipython",
    "version": 3
   },
   "file_extension": ".py",
   "mimetype": "text/x-python",
   "name": "python",
   "nbconvert_exporter": "python",
   "pygments_lexer": "ipython3",
   "version": "3.9.12"
  }
 },
 "nbformat": 4,
 "nbformat_minor": 5
}
